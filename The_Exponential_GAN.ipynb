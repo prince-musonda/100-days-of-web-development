{
  "nbformat": 4,
  "nbformat_minor": 0,
  "metadata": {
    "colab": {
      "provenance": [],
      "authorship_tag": "ABX9TyMwUsI2I3oBIDiNGxw2mbYu",
      "include_colab_link": true
    },
    "kernelspec": {
      "name": "python3",
      "display_name": "Python 3"
    },
    "language_info": {
      "name": "python"
    }
  },
  "cells": [
    {
      "cell_type": "markdown",
      "metadata": {
        "id": "view-in-github",
        "colab_type": "text"
      },
      "source": [
        "<a href=\"https://colab.research.google.com/github/prince-musonda/100-days-of-web-development/blob/main/The_Exponential_GAN.ipynb\" target=\"_parent\"><img src=\"https://colab.research.google.com/assets/colab-badge.svg\" alt=\"Open In Colab\"/></a>"
      ]
    },
    {
      "cell_type": "markdown",
      "source": [
        "**The purpose of this notebook is to create a basic generative adversary neural network that generates a pair of 2 numbers (x,y). Assuming that you invested $1 into  a bank, a an interest rate of 8%, X represents the time in years, and Y represents the amount of money your will have in your account after X years.**"
      ],
      "metadata": {
        "id": "Tp2Ocu7RIH29"
      }
    },
    {
      "cell_type": "markdown",
      "source": [
        "# **Create training data to create  an exponential growth shape**"
      ],
      "metadata": {
        "id": "rKchzRVIJl5i"
      }
    },
    {
      "cell_type": "code",
      "execution_count": 5,
      "metadata": {
        "id": "Ow_pfLEyH6dy"
      },
      "outputs": [],
      "source": [
        "import torch\n",
        "torch.manual_seed(0)\n",
        "obervations = 2048\n",
        "train_data = torch.zeros((obervations,2)) # 2048 rows, 2 columns\n",
        "train_data[:,0] = 50* torch.rand(obervations) # values of x  between 0 and  50\n",
        "train_data[:,1] = 1.08 ** train_data[:,0] #  values of y based on y= 1.08^x\n"
      ]
    },
    {
      "cell_type": "code",
      "source": [
        "\n"
      ],
      "metadata": {
        "id": "er_ZylGYIEiN"
      },
      "execution_count": null,
      "outputs": []
    },
    {
      "cell_type": "markdown",
      "source": [
        "# Visualize the relationship between x and y, basically just draw the exponential growth graph"
      ],
      "metadata": {
        "id": "E1tkAt-2MCb4"
      }
    },
    {
      "cell_type": "code",
      "source": [
        "from matplotlib import pyplot as plt"
      ],
      "metadata": {
        "id": "nRtMKh2jMj52"
      },
      "execution_count": 6,
      "outputs": []
    },
    {
      "cell_type": "code",
      "source": [
        "plt.figure(dpi=100, figsize=(8,6))\n",
        "plt.plot(train_data[:,0],train_data[:,1],\".\",c=\"r\")\n",
        "plt.xlabel(\"values of X\")\n",
        "plt.ylabel(\" values of $y=1.08^x$\")\n",
        "plt.title(\"An exponential growth shape\", fontsize=20)\n",
        "plt.show()"
      ],
      "metadata": {
        "colab": {
          "base_uri": "https://localhost:8080/",
          "height": 572
        },
        "id": "6imVKDZ0MpEW",
        "outputId": "281cae4f-698a-4f45-dc6b-49d0e52f1d99"
      },
      "execution_count": 9,
      "outputs": [
        {
          "output_type": "display_data",
          "data": {
            "text/plain": [
              "<Figure size 800x600 with 1 Axes>"
            ],
            "image/png": "[encoded data removed]"
          },
          "metadata": {}
        }
      ]
    },
    {
      "cell_type": "markdown",
      "source": [
        "# prepare the training data in batches to be feed to the discriminator"
      ],
      "metadata": {
        "id": "z5yOD0V6NwGN"
      }
    },
    {
      "cell_type": "code",
      "source": [
        "from torch.utils.data import DataLoader"
      ],
      "metadata": {
        "id": "w6Cwq7dMNZyG"
      },
      "execution_count": 10,
      "outputs": []
    },
    {
      "cell_type": "code",
      "source": [
        "batch_size=128\n",
        "train_dataloader = DataLoader(train_data,shuffle=True, batch_size=batch_size)"
      ],
      "metadata": {
        "id": "yc7Y2TTuN7wv"
      },
      "execution_count": 11,
      "outputs": []
    },
    {
      "cell_type": "code",
      "source": [],
      "metadata": {
        "id": "xUJHbUCwOJeQ"
      },
      "execution_count": null,
      "outputs": []
    },
    {
      "cell_type": "markdown",
      "source": [
        "# create discriminator neural network"
      ],
      "metadata": {
        "id": "M2ra0wYMTT8x"
      }
    },
    {
      "cell_type": "code",
      "source": [
        "from torch import nn\n",
        "device = \"cuda\" if torch.cuda.is_available() else \"cpu\""
      ],
      "metadata": {
        "id": "0Gh4FhV_TZhx"
      },
      "execution_count": 12,
      "outputs": []
    },
    {
      "cell_type": "code",
      "source": [
        "D = nn.Sequential(\n",
        "    nn.Linear(2,256),\n",
        "    nn.ReLU(),\n",
        "    nn.Dropout(0.3),\n",
        "    nn.Linear(256, 128),\n",
        "    nn.ReLU(),\n",
        "    nn.Dropout(0.3),\n",
        "    nn.Linear(128,64),\n",
        "    nn.ReLU(),\n",
        "    nn.Dropout(0.3),\n",
        "    nn.Linear(64,1),\n",
        "    nn.Sigmoid()\n",
        ").to(device)"
      ],
      "metadata": {
        "id": "Ia33BNdiVA2p"
      },
      "execution_count": 14,
      "outputs": []
    },
    {
      "cell_type": "code",
      "source": [],
      "metadata": {
        "id": "J2r5jULdVyN9"
      },
      "execution_count": null,
      "outputs": []
    },
    {
      "cell_type": "markdown",
      "source": [
        "# Create a generator network"
      ],
      "metadata": {
        "id": "MQEa05f7ZAHv"
      }
    },
    {
      "cell_type": "code",
      "source": [
        "G = nn.Sequential(\n",
        "    nn.Linear(2,16),\n",
        "    nn.ReLU(),\n",
        "    nn.Linear(16,32),\n",
        "    nn.ReLU(),\n",
        "    nn.Linear(32,2)\n",
        ").to(device)"
      ],
      "metadata": {
        "id": "lv-2mJfiZEqL"
      },
      "execution_count": 15,
      "outputs": []
    },
    {
      "cell_type": "code",
      "source": [],
      "metadata": {
        "id": "nOsO7y0pZX-c"
      },
      "execution_count": null,
      "outputs": []
    },
    {
      "cell_type": "markdown",
      "source": [
        "# declare loss function and optimizer\n",
        "\n",
        "The purpose of the discriminator is to be able to identify fake samples from fake ones, and the purpose of the generator is to create  samples that are able to pass through the discrimators detection"
      ],
      "metadata": {
        "id": "T4WqmSoFaw-N"
      }
    },
    {
      "cell_type": "code",
      "source": [
        "loss_fn = nn.BCELoss()\n",
        "optimD = torch.optim.Adam(params=D.parameters(), lr=0.0005)\n",
        "optimG = torch.optim.Adam(params=G.parameters(), lr=0.0005)\n"
      ],
      "metadata": {
        "id": "VgAC0Yt5a32j"
      },
      "execution_count": 16,
      "outputs": []
    },
    {
      "cell_type": "code",
      "source": [],
      "metadata": {
        "id": "qbl2F9B1bk0H"
      },
      "execution_count": null,
      "outputs": []
    }
  ]
}